{
 "cells": [
  {
   "cell_type": "markdown",
   "metadata": {},
   "source": [
    "**TESTING THE EINSTEIN NOTATION IN SEIR2 SPATIAL - AGE-STRATIFIED MODEL**"
   ]
  },
  {
   "cell_type": "code",
   "execution_count": 75,
   "metadata": {},
   "outputs": [
    {
     "name": "stdout",
     "output_type": "stream",
     "text": [
      "The autoreload extension is already loaded. To reload it, use:\n",
      "  %reload_ext autoreload\n"
     ]
    }
   ],
   "source": [
    "# import dependencies\n",
    "\n",
    "import pandas as pd\n",
    "import numpy as np\n",
    "import matplotlib.pyplot as plt\n",
    "# OPTIONAL: Load the \"autoreload\" extension so that package code can change\n",
    "%load_ext autoreload\n",
    "# OPTIONAL: always reload modules so that as you change code in src, it gets loaded\n",
    "%autoreload 2"
   ]
  },
  {
   "cell_type": "code",
   "execution_count": 76,
   "metadata": {},
   "outputs": [
    {
     "name": "stdout",
     "output_type": "stream",
     "text": [
      "<class 'DENV_models_pySODM.JumpProcess_SEIR2_spatial_age_sto_einstein'>\n",
      "['S', 'S1', 'S2', 'E1', 'E2', 'E12', 'E21', 'I1', 'I2', 'I12', 'I21', 'R1', 'R2', 'R', 'I_cum']\n",
      "['alpha', 'beta_1', 'sigma', 'gamma', 'psi', 'ph', 'f_h', 'beta_0', 'ODmatrix', 'N']\n"
     ]
    }
   ],
   "source": [
    "################\n",
    "## Load model ##\n",
    "################\n",
    "\n",
    "from DENV_models_pySODM import JumpProcess_SEIR2_spatial_age_sto_einstein as DENV_model\n",
    "print(DENV_model)\n",
    "print(DENV_model.states)\n",
    "print(DENV_model.parameters)"
   ]
  },
  {
   "cell_type": "code",
   "execution_count": 77,
   "metadata": {},
   "outputs": [
    {
     "name": "stdout",
     "output_type": "stream",
     "text": [
      "M shape (3, 3, 2)\n",
      "N shape (2, 2, 3)\n"
     ]
    }
   ],
   "source": [
    "#################\n",
    "## Setup model ##\n",
    "#################\n",
    "\n",
    "# Define model parameters\n",
    "p = 0\n",
    "N_A = np.array([[10, 5],\n",
    "                [5, 10]])\n",
    "N_B = np.array([[10, 5],\n",
    "                [5, 10]])\n",
    "N_C = np.array([[10, 5],\n",
    "                [5, 10]])\n",
    "N = np.stack((N_A, N_B, N_C), axis=2) # turns N into 2x2x3 \n",
    "\n",
    "OD_child = np.array([[0.6, 0.2, 0.20],\n",
    "               [0.0, 1, 0.0],\n",
    "               [0, 0, 1]])\n",
    "OD_adult = np.array([[0.6, 0.2, 0.20],\n",
    "               [0.0, 1, 0.0],\n",
    "               [0, 0, 1]])\n",
    "M = np.stack((OD_child, OD_adult), axis = 2) # turns M into 3x3x2\n",
    "\n",
    "print(\"M shape\",M.shape)\n",
    "print(\"N shape\",N.shape)\n",
    "\n",
    "\n",
    "age_groups = pd.IntervalIndex.from_tuples([(0,15),(15,100)], closed='left')\n",
    "locations = ['A', 'B', 'C']\n",
    "\n",
    "params = {'alpha': 45 ,'sigma':5, 'gamma': 15, 'psi': 1.5, 'beta_0' : np.array([0.2, 0.10]), 'beta_1' : 0.5, 'ph':p, 'f_h':0.8, 'N': N, 'ODmatrix': M} # I made younger groups more infectious than older, beta_1 is the same for all age groups\n",
    "\n",
    "# Define initial condition\n",
    "\n",
    "initS = np.array([[80, 10, 1000],[10, 90, 4000]]) # age x location\n",
    "initI1 = np.array([[10, 0, 0], [0, 0, 0]]) # age x location \n",
    "\n",
    "init_states = {'S': pd.DataFrame(initS, index=age_groups, columns=locations),\n",
    "               'I1': pd.DataFrame(initI1, index=age_groups, columns=locations)}\n",
    "\n",
    "\n",
    "# Define model coordinates\n",
    "coordinates={'age_group': age_groups, 'location': locations}"
   ]
  },
  {
   "cell_type": "code",
   "execution_count": 78,
   "metadata": {},
   "outputs": [
    {
     "name": "stdout",
     "output_type": "stream",
     "text": [
      "ODmatrix [[[0.6 0.6]\n",
      "  [0.2 0.2]\n",
      "  [0.2 0.2]]\n",
      "\n",
      " [[0.  0. ]\n",
      "  [1.  1. ]\n",
      "  [0.  0. ]]\n",
      "\n",
      " [[0.  0. ]\n",
      "  [0.  0. ]\n",
      "  [1.  1. ]]]\n",
      "ODmatrix (3, 3, 2)\n",
      "T_mob (2, 3)\n",
      "I_frac shape (2, 3)\n",
      "I_frac type <class 'numpy.ndarray'>\n",
      "N shape (2, 2, 3)\n",
      "I1 shape (2, 3)\n",
      "I21 shape (2, 3)\n",
      "T shape (2, 3)\n",
      "test 1 il-> il for I_frac (2, 3)\n",
      "test 2 il,ail->ail (2, 2, 3)\n",
      "test 3 il,ail->al (2, 3)\n"
     ]
    }
   ],
   "source": [
    "####################\n",
    "# Initialize model #\n",
    "####################\n",
    "model_SEIR2_Einstein = DENV_model(states=init_states, parameters=params, coordinates=coordinates) # no time_dependent_parameters\n",
    "\n",
    "# THIS SEEMS TO BE WORKING :)"
   ]
  },
  {
   "cell_type": "code",
   "execution_count": 19,
   "metadata": {},
   "outputs": [
    {
     "name": "stdout",
     "output_type": "stream",
     "text": [
      "index_M MultiIndex([(  [0, 15), 'A', 'A'),\n",
      "            (  [0, 15), 'A', 'B'),\n",
      "            (  [0, 15), 'A', 'C'),\n",
      "            (  [0, 15), 'B', 'A'),\n",
      "            (  [0, 15), 'B', 'B'),\n",
      "            (  [0, 15), 'B', 'C'),\n",
      "            (  [0, 15), 'C', 'A'),\n",
      "            (  [0, 15), 'C', 'B'),\n",
      "            (  [0, 15), 'C', 'C'),\n",
      "            ([15, 100), 'A', 'A'),\n",
      "            ([15, 100), 'A', 'B'),\n",
      "            ([15, 100), 'A', 'C'),\n",
      "            ([15, 100), 'B', 'A'),\n",
      "            ([15, 100), 'B', 'B'),\n",
      "            ([15, 100), 'B', 'C'),\n",
      "            ([15, 100), 'C', 'A'),\n",
      "            ([15, 100), 'C', 'B'),\n",
      "            ([15, 100), 'C', 'C')],\n",
      "           names=['age_group', 'location', 'location'])\n",
      "index_N MultiIndex([(  [0, 15),   [0, 15)),\n",
      "            (  [0, 15), [15, 100)),\n",
      "            ([15, 100),   [0, 15)),\n",
      "            ([15, 100), [15, 100))],\n",
      "           names=['age_group', 'age_group'])\n",
      "flattened_matrix [[0.6 0.2 0.2 0.  1.  0.  0.  0.  1. ]\n",
      " [0.6 0.2 0.2 0.  1.  0.  0.  0.  1. ]]\n",
      "flattened_matrix shape (2, 9)\n",
      "flattened_matrixN [[ 5 10 10]\n",
      " [ 5  5 10]\n",
      " [10  5  5]\n",
      " [10 10  5]]\n",
      "flattened_matrixN shape (4, 3)\n",
      "N_flat                       A   B   C\n",
      "age_group age_group            \n",
      "[0, 15)   [0, 15)     5  10  10\n",
      "          [15, 100)   5   5  10\n",
      "[15, 100) [0, 15)    10   5   5\n",
      "          [15, 100)  10  10   5\n"
     ]
    }
   ],
   "source": []
  }
 ],
 "metadata": {
  "kernelspec": {
   "display_name": "PYSODM",
   "language": "python",
   "name": "python3"
  },
  "language_info": {
   "codemirror_mode": {
    "name": "ipython",
    "version": 3
   },
   "file_extension": ".py",
   "mimetype": "text/x-python",
   "name": "python",
   "nbconvert_exporter": "python",
   "pygments_lexer": "ipython3",
   "version": "3.12.3"
  }
 },
 "nbformat": 4,
 "nbformat_minor": 2
}
